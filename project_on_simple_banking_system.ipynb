{
  "nbformat": 4,
  "nbformat_minor": 0,
  "metadata": {
    "colab": {
      "provenance": []
    },
    "kernelspec": {
      "name": "python3",
      "display_name": "Python 3"
    },
    "language_info": {
      "name": "python"
    }
  },
  "cells": [
    {
      "cell_type": "code",
      "execution_count": 1,
      "metadata": {
        "colab": {
          "base_uri": "https://localhost:8080/"
        },
        "id": "cm3WiDLVzRCP",
        "outputId": "d20870cb-0f15-42d7-fa3d-0a93042d0495"
      },
      "outputs": [
        {
          "output_type": "stream",
          "name": "stdout",
          "text": [
            " WELCOME!!\n",
            "Enter your account type: \n",
            " 1) Current account\n",
            " 2) Saving account\n",
            " 3) Exit \n",
            " 1\n",
            "Please enter your account number: 123\n",
            "Please enter your pin number: 199\n",
            "Enter the withdrawl amount20000\n",
            "Yours account number is: 123\n",
            "Your account balance is: 200000.0\n",
            "processing amount 20000.0\n",
            "Your Remaining balance is: 180000.0\n"
          ]
        }
      ],
      "source": [
        "try:\n",
        "    print(\" WELCOME!!\")\n",
        "    choice = int(input(\"Enter your account type: \\n 1) Current account\\n 2) Saving account\\n 3) Exit \\n \"))\n",
        "    if choice == 3:\n",
        "        print(\"You choosed to Exit\")\n",
        "    elif choice == 1 or choice == 2:\n",
        "        def account_details(acc_num,pin):\n",
        "            if acc_num == account[0] and pin == pinn[0]:\n",
        "                print(f\"Yours account number is: {acc_num}\")\n",
        "                print(f\"Your account balance is: {balance[0]}\")\n",
        "                if with_amount <= balance[0]:\n",
        "                    print(\"processing amount\",with_amount)\n",
        "                    return f\"Your Remaining balance is: {balance[0] - with_amount}\"\n",
        "\n",
        "                else:\n",
        "                    return \"Insufficient Balance\"\n",
        "\n",
        "            elif acc_num == account[1] and pin == pinn[1]:\n",
        "                print(f\"Yours account number is: {acc_num}\")\n",
        "                print(f\"Your account balance is: {balance[1]}\")\n",
        "                if with_amount <= balance[1]:\n",
        "                    print(\"processing amount\",with_amount)\n",
        "                    return f\"Your Remaining balance is: {balance[1] - with_amount}\"\n",
        "\n",
        "                else:\n",
        "                    return \"Insufficient Balance\"\n",
        "            elif acc_num == account[2] and pin == pinn[2]:\n",
        "                print(f\"Yours account number is: {acc_num}\")\n",
        "                print(f\"Your account balance is: {balance[2]}\")\n",
        "                if with_amount <= balance[2]:\n",
        "                    print(\"processing amount: \",with_amount)\n",
        "                    return f\"Your Remaining balance is: {balance[2] - with_amount}\"\n",
        "\n",
        "                else:\n",
        "                   return \"Insufficient Balance\"\n",
        "            else:\n",
        "                return f\"Please enter correct account number or pin\"\n",
        "\n",
        "        account = [\"123\",\"456\",\"789\"]\n",
        "        pinn = [\"199\",\"666\",\"999\"]\n",
        "        balance = [200000.0,3900000.0,450000.34]\n",
        "        acc_num = input(\"Please enter your account number: \")\n",
        "        pin = input(\"Please enter your pin number: \")\n",
        "        with_amount = float(input(\"Enter the withdrawl amount\"))\n",
        "        if with_amount < 0:\n",
        "            print(f\"enter the correct amount!!\")\n",
        "        else:\n",
        "            print(account_details(acc_num,pin))\n",
        "    else:\n",
        "        print(\"Please enter the Valid Choice\")\n",
        "except ValueError:\n",
        "    print(\"Error: Please enter correct value...\")"
      ]
    }
  ]
}